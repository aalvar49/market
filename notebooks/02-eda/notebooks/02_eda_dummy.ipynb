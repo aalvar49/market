{
 "cells": [
  {
   "cell_type": "markdown",
   "id": "696a17f0-937a-4dd5-bb8b-ac62a7c1469f",
   "metadata": {},
   "source": [
    "# Notebook Title"
   ]
  },
  {
   "cell_type": "code",
   "execution_count": 1,
   "id": "e0f1f826-b164-4c7b-b1c8-49ec59eff594",
   "metadata": {},
   "outputs": [],
   "source": [
    "%load_ext lab_black"
   ]
  },
  {
   "cell_type": "code",
   "execution_count": 2,
   "id": "47088e21-3d7b-4d70-a099-a3ab12229899",
   "metadata": {},
   "outputs": [],
   "source": [
    "import os\n",
    "from datetime import datetime\n",
    "from glob import glob\n",
    "from typing import Dict\n",
    "\n",
    "import numpy as np\n",
    "import pandas as pd\n",
    "from google.oauth2 import service_account"
   ]
  },
  {
   "cell_type": "markdown",
   "id": "c35f826a-8afd-4c22-b546-af086cd458e5",
   "metadata": {},
   "source": [
    "## About"
   ]
  },
  {
   "cell_type": "markdown",
   "id": "c107e332-f16d-40f0-905f-96aff6d7fdd1",
   "metadata": {},
   "source": [
    "Text here."
   ]
  },
  {
   "cell_type": "markdown",
   "id": "b3754d00-1e7c-4364-8862-298dea5b9510",
   "metadata": {},
   "source": [
    "## User Inputs"
   ]
  },
  {
   "cell_type": "code",
   "execution_count": 3,
   "id": "64b4bb20-d1a6-4503-a52c-e75a97721643",
   "metadata": {},
   "outputs": [],
   "source": [
    "PROJ_ROOT_DIR = os.path.join(os.pardir)"
   ]
  },
  {
   "cell_type": "code",
   "execution_count": 4,
   "id": "1cd8b93b-94ad-4ceb-9608-4042ca51d0d1",
   "metadata": {
    "tags": [
     "parameters"
    ]
   },
   "outputs": [],
   "source": [
    "# start and end dates\n",
    "train_start_date = \"20160801\"\n",
    "train_end_date = \"20170331\"\n",
    "test_end_date = \"20170430\"\n",
    "\n",
    "# # Google Cloud PROJECT ID\n",
    "# gcp_project_id = <google-project-id>\n",
    "# # Google Cloud Service Account JSON local filepath\n",
    "# gcp_creds_fpath = <google-cloud-service-account-json-file>\n",
    "\n",
    "# IGNORE\n",
    "# Google Cloud PROJECT ID\n",
    "gcp_project_id = os.environ[\"GCP_PROJECT_ID\"]\n",
    "# Google Cloud Service Account JSON local filepath\n",
    "gcp_creds_fpath = glob(\n",
    "    os.path.join(os.path.join(PROJ_ROOT_DIR, \"data\", \"raw\"), \"*.json\")\n",
    ")[0]"
   ]
  }
 ],
 "metadata": {
  "kernelspec": {
   "display_name": "eda",
   "language": "python",
   "name": "eda"
  },
  "language_info": {
   "codemirror_mode": {
    "name": "ipython",
    "version": 3
   },
   "file_extension": ".py",
   "mimetype": "text/x-python",
   "name": "python",
   "nbconvert_exporter": "python",
   "pygments_lexer": "ipython3",
   "version": "3.11.2"
  }
 },
 "nbformat": 4,
 "nbformat_minor": 5
}
