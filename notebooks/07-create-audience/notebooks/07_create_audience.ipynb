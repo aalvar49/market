{
 "cells": [
  {
   "cell_type": "markdown",
   "id": "73f6f53a-3af7-45e5-8956-4774aaa1c4da",
   "metadata": {},
   "source": [
    "# Create Marketing Audience Cohorts"
   ]
  },
  {
   "cell_type": "code",
   "execution_count": 1,
   "id": "dd651c83-2e26-4a16-8a15-7f91ef4f1890",
   "metadata": {
    "tags": []
   },
   "outputs": [],
   "source": [
    "# | echo: false\n",
    "%load_ext lab_black"
   ]
  },
  {
   "cell_type": "markdown",
   "id": "fe3446d6-1cd3-440c-8c44-2f779f0f44b6",
   "metadata": {},
   "source": [
    "Import Python libraries"
   ]
  },
  {
   "cell_type": "code",
   "execution_count": 2,
   "id": "6873be03-f1a5-4902-8925-2c706eebe83f",
   "metadata": {
    "tags": []
   },
   "outputs": [],
   "source": [
    "import os\n",
    "import random\n",
    "\n",
    "import numpy as np\n",
    "import pandas as pd"
   ]
  },
  {
   "cell_type": "markdown",
   "id": "692d7dd6-e262-4b75-8362-d66017bef41d",
   "metadata": {},
   "source": [
    "## About"
   ]
  },
  {
   "cell_type": "markdown",
   "id": "be192a43-5554-4284-8f71-238e8945aab7",
   "metadata": {},
   "source": [
    "### Objective\n",
    "The final step in the workflow for this project is to generate the marketing audience test (or treatment) and control cohorts. Generating the marketing audience cohorts is the deliverable that is required at the end of this project. This step will create this deliverable.\n",
    "\n",
    "### Audience Propensity Groups\n",
    "Three marketing audience propensity groups were chosen in the previous step (post-processing)\n",
    "\n",
    "1. `low`\n",
    "   - visitors in this audience group are predicted to have a low propensity (or likelihood) to make a purchase on a return visit to the store\n",
    "2. `medium`\n",
    "3. `high`\n",
    "\n",
    "Predictions of propensity (probabilities) come from the ML model's predicted probabilities for visitors in the unseen data split. The unseen data covers March 1 - 31, 2017 and represents the production period for this project.\n",
    "\n",
    "### Test (or Treatment) and Control Cohorts\n",
    "The test and control cohorts are randomly selected from each audience propensity group (low, medium and high). The size of each cohort is chosen based on the output of the previous analysis step (the media experiment design, or post-processing).\n",
    "\n",
    "In the current step\n",
    "\n",
    "1. the control cohort is randomly chosen from each audience propensity group (low, medium and high)\n",
    "2. a random sampling from all visitors that do not belong to the control group is drawn and these visitors are placed in the test (or treatment) group\n",
    "   - all other visitors do not belong to a cohort\n",
    "\n",
    "### Summary of Analysis in This Step\n",
    "In summary, the final output of this step is to append two new columns to the propensity predictions for the unseen data\n",
    "\n",
    "1. `audience_group`\n",
    "2. `cohort`\n",
    "\n",
    "### Assumptions\n",
    "\n",
    "As was the case with the preceding (post-processing, or media design) step, the current step can only be be run on March 31, 2017 after\n",
    "\n",
    "1. all the unseen data has been collected\n",
    "2. propensity (probabilities) have been predicted for this data\n",
    "\n",
    "So, we will assume that\n",
    "\n",
    "1. the current date is April 1, 2017\n",
    "2. the unseen data has been\n",
    "   - collected\n",
    "   - processed (drop duplicates, bin categorical features, etc. as was done during ML model development)\n",
    "3. we have used the trained ML model to make predictions of the probability (likelihood or propenisty) of making a purchase on a future visit for all visitors in the unseen data"
   ]
  },
  {
   "cell_type": "markdown",
   "id": "40021b79-8233-4e38-878f-2e8206672d8c",
   "metadata": {},
   "source": [
    "## User Inputs"
   ]
  },
  {
   "cell_type": "code",
   "execution_count": 3,
   "id": "25951ee6-cba8-4f95-bbfb-a8df59a3e284",
   "metadata": {
    "tags": []
   },
   "outputs": [],
   "source": [
    "PROJ_ROOT_DIR = os.path.join(os.pardir)"
   ]
  },
  {
   "cell_type": "markdown",
   "id": "16b129dd-a949-4347-ac43-ac4725253753",
   "metadata": {},
   "source": [
    "Define the following\n",
    "\n",
    "1. `audience_groups`\n",
    "   - desired audience groups into which the first-time visitors propensities will be placed\n",
    "     - `num_propens_groups` specifies the number of groups\n",
    "     - `propens_group_labels` specifies names of the groups\n",
    "   - this is a Python dictionary with the following key-value pairs\n",
    "     - `num_propens_groupsnum_propens_groups` represents the number of desired audience propensity groups (low, medium and high)\n",
    "    - `propens_group_labels` gives the desired audience propensity group labels\n",
    "2. `min_control_group_sample_sizes`\n",
    "   - the least number of samples (first-time visitors) to be included in both the control and test cohorts of each audience group\n",
    "   - these should come from the output of the previous step ([designing a media or marketing experiment](https://blog.hubspot.com/blog/tabid/6307/bid/31634/a-b-testing-in-action-3-real-life-marketing-experiments.aspxhttps://blog.hubspot.com/blog/tabid/6307/bid/31634/a-b-testing-in-action-3-real-life-marketing-experiments.aspx))\n",
    "   - this is a Python list with integers that represent the desired minimum size of the control and test cohort"
   ]
  },
  {
   "cell_type": "code",
   "execution_count": 4,
   "id": "142ef7ca-174c-45b0-bbb8-b2e6e0f17571",
   "metadata": {
    "tags": [
     "parameters"
    ]
   },
   "outputs": [],
   "source": [
    "# | code-fold: false\n",
    "audience_groups = {\n",
    "    \"num_propens_groups\": 3,\n",
    "    \"propens_group_labels\": [\"High\", \"Medium\", \"Low\"],\n",
    "}\n",
    "\n",
    "min_control_group_sizes = [1000, 2000, 3000]"
   ]
  },
  {
   "cell_type": "markdown",
   "id": "9685bf83-7675-4ea3-bdbf-c181dec44396",
   "metadata": {},
   "source": [
    "Define filepath to data directory where the unseen data, with predictions, is stored"
   ]
  },
  {
   "cell_type": "code",
   "execution_count": 5,
   "id": "63e079c1-b5fe-4e6c-854e-331232d9fd22",
   "metadata": {
    "tags": []
   },
   "outputs": [],
   "source": [
    "# | code-fold: false\n",
    "model_dir = os.path.join(PROJ_ROOT_DIR, \"models\")\n",
    "ml_preds_fpath = os.path.join(model_dir, \"unseen_data_predictions.parquet.gzip\")"
   ]
  },
  {
   "cell_type": "markdown",
   "id": "b4cd654b-0712-4d66-902c-a46926e4a39c",
   "metadata": {},
   "source": [
    "Define filepath to data directory where the created audience cohorts will be stored"
   ]
  },
  {
   "cell_type": "code",
   "execution_count": 6,
   "id": "382ef92b-ffc0-4f71-8a5d-bc2131776476",
   "metadata": {
    "tags": []
   },
   "outputs": [],
   "source": [
    "# | code-fold: false\n",
    "data_dir = os.path.join(PROJ_ROOT_DIR, \"data\")\n",
    "processed_data_dir = os.path.join(data_dir, \"processed\")"
   ]
  },
  {
   "cell_type": "markdown",
   "id": "add8a852-2154-4b24-8ff1-70617476f0c8",
   "metadata": {},
   "source": [
    "Create a mapping between audience group number (0, 1, 2) and name (high, medium, low), where\n",
    "\n",
    "- 0 is mapped to high\n",
    "- 1 is mapped to medium\n",
    "- 2 is mapped to low\n",
    "\n",
    "since it is [standard to](https://stackoverflow.com/a/26502255/4057186https://stackoverflow.com/a/26502255/4057186) assign a label the top percentile (highest propensity) with the smallest number (0)"
   ]
  },
  {
   "cell_type": "code",
   "execution_count": 7,
   "id": "3ec15071-3db8-499b-9bbc-032ef56547ec",
   "metadata": {
    "tags": []
   },
   "outputs": [],
   "source": [
    "# | code-fold: false\n",
    "mapper_dict_audience = dict(\n",
    "    zip(\n",
    "        range(audience_groups[\"num_propens_groups\"]),\n",
    "        audience_groups[\"propens_group_labels\"],\n",
    "    )\n",
    ")"
   ]
  },
  {
   "cell_type": "markdown",
   "id": "621e51be-05ea-4d3a-a416-3d21708774f7",
   "metadata": {},
   "source": [
    "Define a helper function to show datatypes and number of missing values in a `DataFrame`"
   ]
  },
  {
   "cell_type": "code",
   "execution_count": 8,
   "id": "31de2659-0c15-4a1b-a253-2b0a3a338209",
   "metadata": {
    "tags": []
   },
   "outputs": [],
   "source": [
    "def summarize_df(df: pd.DataFrame) -> None:\n",
    "    \"\"\"Show datatypes and count missing values in columns of DataFrame.\"\"\"\n",
    "    display(\n",
    "        df.dtypes.rename(\"dtype\")\n",
    "        .to_frame()\n",
    "        .merge(\n",
    "            df.isna().sum().rename(\"missing\").to_frame(),\n",
    "            left_index=True,\n",
    "            right_index=True,\n",
    "            how=\"left\",\n",
    "        )\n",
    "    )"
   ]
  },
  {
   "cell_type": "markdown",
   "id": "cfef9c3e-5452-479a-a634-7fa4f9467851",
   "metadata": {},
   "source": [
    "## Load Data"
   ]
  },
  {
   "cell_type": "code",
   "execution_count": 9,
   "id": "ed24a322-311e-41ab-be7a-19b3a9f0ceff",
   "metadata": {
    "tags": []
   },
   "outputs": [],
   "source": [
    "# | echo: false\n",
    "\n",
    "# # DUMMY DATA - IGNORE\n",
    "\n",
    "# nrows = 24_000\n",
    "\n",
    "# from scipy.stats import beta\n",
    "\n",
    "\n",
    "# df_prediction = (\n",
    "#     pd.DataFrame(\n",
    "#         np.random.choice(nrows, nrows, replace=False), columns=[\"fullvisitorid\"]\n",
    "#     )\n",
    "#     .assign(\n",
    "#         label=lambda df: pd.Series(np.random.default_rng(88).beta(1.0, 4.2, size=nrows))\n",
    "#         > 0.5\n",
    "#     )\n",
    "#     .assign(\n",
    "#         score=lambda df: pd.Series(\n",
    "#             beta.rvs(0.125, 2.42, size=nrows, random_state=88)\n",
    "#         ).astype(pd.Float32Dtype())\n",
    "#     )\n",
    "#     .assign(predicted_score_label=lambda df: df[\"score\"] > 0.5)\n",
    "# )\n",
    "# df_prediction.astype(\n",
    "#     {\n",
    "#         \"fullvisitorid\": pd.StringDtype(),\n",
    "#         \"score\": pd.Float32Dtype(),\n",
    "#         \"predicted_score_label\": pd.BooleanDtype(),\n",
    "#     }\n",
    "# ).to_parquet(ml_preds_fpath, index=False, engine=\"pyarrow\", compression=\"gzip\")"
   ]
  },
  {
   "cell_type": "markdown",
   "id": "72607b81-0d1e-43de-9e64-89310d220c1b",
   "metadata": {},
   "source": [
    "Load the predictions of propensity to make a purchase on a return visit for all first-time visitors in the unseen data split"
   ]
  },
  {
   "cell_type": "code",
   "execution_count": 10,
   "id": "ca95bab6-e753-4d35-91ae-2842af3b05b1",
   "metadata": {
    "tags": []
   },
   "outputs": [
    {
     "data": {
      "text/html": [
       "<div>\n",
       "<style scoped>\n",
       "    .dataframe tbody tr th:only-of-type {\n",
       "        vertical-align: middle;\n",
       "    }\n",
       "\n",
       "    .dataframe tbody tr th {\n",
       "        vertical-align: top;\n",
       "    }\n",
       "\n",
       "    .dataframe thead th {\n",
       "        text-align: right;\n",
       "    }\n",
       "</style>\n",
       "<table border=\"1\" class=\"dataframe\">\n",
       "  <thead>\n",
       "    <tr style=\"text-align: right;\">\n",
       "      <th></th>\n",
       "      <th>fullvisitorid</th>\n",
       "      <th>label</th>\n",
       "      <th>score</th>\n",
       "      <th>predicted_score_label</th>\n",
       "    </tr>\n",
       "  </thead>\n",
       "  <tbody>\n",
       "    <tr>\n",
       "      <th>0</th>\n",
       "      <td>9568</td>\n",
       "      <td>False</td>\n",
       "      <td>0.008079</td>\n",
       "      <td>False</td>\n",
       "    </tr>\n",
       "    <tr>\n",
       "      <th>1</th>\n",
       "      <td>18180</td>\n",
       "      <td>False</td>\n",
       "      <td>0.030055</td>\n",
       "      <td>False</td>\n",
       "    </tr>\n",
       "    <tr>\n",
       "      <th>2</th>\n",
       "      <td>154</td>\n",
       "      <td>False</td>\n",
       "      <td>0.0</td>\n",
       "      <td>False</td>\n",
       "    </tr>\n",
       "    <tr>\n",
       "      <th>3</th>\n",
       "      <td>1718</td>\n",
       "      <td>False</td>\n",
       "      <td>0.000253</td>\n",
       "      <td>False</td>\n",
       "    </tr>\n",
       "    <tr>\n",
       "      <th>4</th>\n",
       "      <td>413</td>\n",
       "      <td>False</td>\n",
       "      <td>0.065967</td>\n",
       "      <td>False</td>\n",
       "    </tr>\n",
       "  </tbody>\n",
       "</table>\n",
       "</div>"
      ],
      "text/plain": [
       "  fullvisitorid  label     score  predicted_score_label\n",
       "0          9568  False  0.008079                  False\n",
       "1         18180  False  0.030055                  False\n",
       "2           154  False       0.0                  False\n",
       "3          1718  False  0.000253                  False\n",
       "4           413  False  0.065967                  False"
      ]
     },
     "metadata": {},
     "output_type": "display_data"
    },
    {
     "data": {
      "text/html": [
       "<div>\n",
       "<style scoped>\n",
       "    .dataframe tbody tr th:only-of-type {\n",
       "        vertical-align: middle;\n",
       "    }\n",
       "\n",
       "    .dataframe tbody tr th {\n",
       "        vertical-align: top;\n",
       "    }\n",
       "\n",
       "    .dataframe thead th {\n",
       "        text-align: right;\n",
       "    }\n",
       "</style>\n",
       "<table border=\"1\" class=\"dataframe\">\n",
       "  <thead>\n",
       "    <tr style=\"text-align: right;\">\n",
       "      <th></th>\n",
       "      <th>fullvisitorid</th>\n",
       "      <th>label</th>\n",
       "      <th>score</th>\n",
       "      <th>predicted_score_label</th>\n",
       "    </tr>\n",
       "  </thead>\n",
       "  <tbody>\n",
       "    <tr>\n",
       "      <th>23995</th>\n",
       "      <td>19834</td>\n",
       "      <td>False</td>\n",
       "      <td>0.000077</td>\n",
       "      <td>False</td>\n",
       "    </tr>\n",
       "    <tr>\n",
       "      <th>23996</th>\n",
       "      <td>3875</td>\n",
       "      <td>False</td>\n",
       "      <td>0.000001</td>\n",
       "      <td>False</td>\n",
       "    </tr>\n",
       "    <tr>\n",
       "      <th>23997</th>\n",
       "      <td>20780</td>\n",
       "      <td>False</td>\n",
       "      <td>0.00001</td>\n",
       "      <td>False</td>\n",
       "    </tr>\n",
       "    <tr>\n",
       "      <th>23998</th>\n",
       "      <td>11178</td>\n",
       "      <td>True</td>\n",
       "      <td>0.278035</td>\n",
       "      <td>False</td>\n",
       "    </tr>\n",
       "    <tr>\n",
       "      <th>23999</th>\n",
       "      <td>12921</td>\n",
       "      <td>False</td>\n",
       "      <td>0.003235</td>\n",
       "      <td>False</td>\n",
       "    </tr>\n",
       "  </tbody>\n",
       "</table>\n",
       "</div>"
      ],
      "text/plain": [
       "      fullvisitorid  label     score  predicted_score_label\n",
       "23995         19834  False  0.000077                  False\n",
       "23996          3875  False  0.000001                  False\n",
       "23997         20780  False   0.00001                  False\n",
       "23998         11178   True  0.278035                  False\n",
       "23999         12921  False  0.003235                  False"
      ]
     },
     "metadata": {},
     "output_type": "display_data"
    },
    {
     "data": {
      "text/html": [
       "<div>\n",
       "<style scoped>\n",
       "    .dataframe tbody tr th:only-of-type {\n",
       "        vertical-align: middle;\n",
       "    }\n",
       "\n",
       "    .dataframe tbody tr th {\n",
       "        vertical-align: top;\n",
       "    }\n",
       "\n",
       "    .dataframe thead th {\n",
       "        text-align: right;\n",
       "    }\n",
       "</style>\n",
       "<table border=\"1\" class=\"dataframe\">\n",
       "  <thead>\n",
       "    <tr style=\"text-align: right;\">\n",
       "      <th></th>\n",
       "      <th>dtype</th>\n",
       "      <th>missing</th>\n",
       "    </tr>\n",
       "  </thead>\n",
       "  <tbody>\n",
       "    <tr>\n",
       "      <th>fullvisitorid</th>\n",
       "      <td>string[python]</td>\n",
       "      <td>0</td>\n",
       "    </tr>\n",
       "    <tr>\n",
       "      <th>label</th>\n",
       "      <td>bool</td>\n",
       "      <td>0</td>\n",
       "    </tr>\n",
       "    <tr>\n",
       "      <th>score</th>\n",
       "      <td>Float32</td>\n",
       "      <td>0</td>\n",
       "    </tr>\n",
       "    <tr>\n",
       "      <th>predicted_score_label</th>\n",
       "      <td>boolean</td>\n",
       "      <td>0</td>\n",
       "    </tr>\n",
       "  </tbody>\n",
       "</table>\n",
       "</div>"
      ],
      "text/plain": [
       "                                dtype  missing\n",
       "fullvisitorid          string[python]        0\n",
       "label                            bool        0\n",
       "score                         Float32        0\n",
       "predicted_score_label         boolean        0"
      ]
     },
     "metadata": {},
     "output_type": "display_data"
    },
    {
     "name": "stdout",
     "output_type": "stream",
     "text": [
      "<class 'pandas.core.frame.DataFrame'>\n",
      "RangeIndex: 24000 entries, 0 to 23999\n",
      "Data columns (total 4 columns):\n",
      " #   Column                 Non-Null Count  Dtype  \n",
      "---  ------                 --------------  -----  \n",
      " 0   fullvisitorid          24000 non-null  string \n",
      " 1   label                  24000 non-null  bool   \n",
      " 2   score                  24000 non-null  Float32\n",
      " 3   predicted_score_label  24000 non-null  boolean\n",
      "dtypes: Float32(1), bool(1), boolean(1), string(1)\n",
      "memory usage: 375.1 KB\n"
     ]
    }
   ],
   "source": [
    "# | code-fold: false\n",
    "df = pd.read_parquet(ml_preds_fpath, engine=\"pyarrow\")\n",
    "display(df.head())\n",
    "display(df.tail())\n",
    "summarize_df(df)\n",
    "df.info()"
   ]
  },
  {
   "cell_type": "markdown",
   "id": "b8fb62b2-301c-467d-a08f-260a3c65a292",
   "metadata": {},
   "source": [
    "**Notes**\n",
    "\n",
    "1. The `fullvisitorid` column is the ID of each visitor who\n",
    "   - made a purchase on a return visit to the store\n",
    "   - made their first visit to the store during the dates covered by the test data split\n",
    "2. The true ML label (`y_true`) will not be known until a later date, after March 31, 2017 (see the project scope for details)\n",
    "3. The `predicted_score_label` column is the predicted label using ML (`y_pred`).\n",
    "4. The `score` column is the predicted probability (using `.pred_proba()`), which is the propensity of a visitor to make a purchase on a return visit.\n",
    "5. Any other columns are either\n",
    "   - used in ML as features (`X`), or\n",
    "   - not used in ML"
   ]
  },
  {
   "cell_type": "markdown",
   "id": "2119fe08-b4b1-4b50-97ef-ecad41f81f38",
   "metadata": {},
   "source": [
    "## Process Data"
   ]
  },
  {
   "cell_type": "markdown",
   "id": "556b192e-8b94-4c10-a6da-c2d4d7f2228e",
   "metadata": {},
   "source": [
    "Labels for the audience and cohort groups will now be assigned to all visitors in the test data.\n",
    "\n",
    "For the audience, all visitors will be placed in one of three groups based on their predicted propensity to make a purchase on a return visit to the store. Groups are created using `pandas.qcut()`. There will be three such groups - low, medium and high propensity.\n",
    "\n",
    "To do this, a separate column `audience_group` will be assigned and will contain integers (2, 1, 0). These integers are in descending order since\n",
    "\n",
    "1. the scores (predicted probabilities) have been sorted in descending order\n",
    "2. `pandas.qcut()` assigns bin numbers starting at 0, which is a standard practice (see the explanation for `mapper_dict_audience` earlier in this step)\n",
    "\n",
    "Later, labels (`Low`, `Medium` or `High`) will be mapped to the integers using the mapping dictionary created above (`mapper_dict_audience`).\n",
    "\n",
    "The the cohort, a subset of visitors will be placed in one of two cohorts - test (or treatment) and control. All other visitors will be assigned a choort of `None`. To do this, a separate column `audience_group` will be assigned and will contain `Control`, `Test` or `None`."
   ]
  },
  {
   "cell_type": "markdown",
   "id": "76ff1090-b3ca-4b53-ad3a-9aa3361d0364",
   "metadata": {},
   "source": [
    "### Get Audience Groups Based on Propensity to Make Purchase on Return Visit"
   ]
  },
  {
   "cell_type": "markdown",
   "id": "c0cf7b57-1e83-4305-b17f-4ba035e61402",
   "metadata": {
    "tags": []
   },
   "source": [
    "To create the audience for the marketing campaign, we'll first\n",
    "\n",
    "1. (optionally) sort the predicted probabilities in the unseen (or inference) data, in descending order\n",
    "2. assign a row number to each observation (i.e. to each row or visitor) in this unseen data"
   ]
  },
  {
   "cell_type": "code",
   "execution_count": 11,
   "id": "f16681c7-e904-4229-82dc-a86afa88b1e3",
   "metadata": {
    "tags": []
   },
   "outputs": [
    {
     "name": "stdout",
     "output_type": "stream",
     "text": [
      "CPU times: user 3.09 ms, sys: 2.87 ms, total: 5.96 ms\n",
      "Wall time: 5.35 ms\n"
     ]
    },
    {
     "data": {
      "text/html": [
       "<div>\n",
       "<style scoped>\n",
       "    .dataframe tbody tr th:only-of-type {\n",
       "        vertical-align: middle;\n",
       "    }\n",
       "\n",
       "    .dataframe tbody tr th {\n",
       "        vertical-align: top;\n",
       "    }\n",
       "\n",
       "    .dataframe thead th {\n",
       "        text-align: right;\n",
       "    }\n",
       "</style>\n",
       "<table border=\"1\" class=\"dataframe\">\n",
       "  <thead>\n",
       "    <tr style=\"text-align: right;\">\n",
       "      <th></th>\n",
       "      <th>fullvisitorid</th>\n",
       "      <th>label</th>\n",
       "      <th>score</th>\n",
       "      <th>predicted_score_label</th>\n",
       "      <th>row_number</th>\n",
       "    </tr>\n",
       "  </thead>\n",
       "  <tbody>\n",
       "    <tr>\n",
       "      <th>5277</th>\n",
       "      <td>6539</td>\n",
       "      <td>False</td>\n",
       "      <td>0.957472</td>\n",
       "      <td>True</td>\n",
       "      <td>0</td>\n",
       "    </tr>\n",
       "    <tr>\n",
       "      <th>997</th>\n",
       "      <td>15317</td>\n",
       "      <td>False</td>\n",
       "      <td>0.929886</td>\n",
       "      <td>True</td>\n",
       "      <td>1</td>\n",
       "    </tr>\n",
       "    <tr>\n",
       "      <th>12343</th>\n",
       "      <td>4313</td>\n",
       "      <td>False</td>\n",
       "      <td>0.918627</td>\n",
       "      <td>True</td>\n",
       "      <td>2</td>\n",
       "    </tr>\n",
       "    <tr>\n",
       "      <th>1644</th>\n",
       "      <td>9806</td>\n",
       "      <td>False</td>\n",
       "      <td>0.908974</td>\n",
       "      <td>True</td>\n",
       "      <td>3</td>\n",
       "    </tr>\n",
       "    <tr>\n",
       "      <th>22156</th>\n",
       "      <td>4375</td>\n",
       "      <td>False</td>\n",
       "      <td>0.906313</td>\n",
       "      <td>True</td>\n",
       "      <td>4</td>\n",
       "    </tr>\n",
       "  </tbody>\n",
       "</table>\n",
       "</div>"
      ],
      "text/plain": [
       "      fullvisitorid  label     score  predicted_score_label  row_number\n",
       "5277           6539  False  0.957472                   True           0\n",
       "997           15317  False  0.929886                   True           1\n",
       "12343          4313  False  0.918627                   True           2\n",
       "1644           9806  False  0.908974                   True           3\n",
       "22156          4375  False  0.906313                   True           4"
      ]
     },
     "execution_count": 11,
     "metadata": {},
     "output_type": "execute_result"
    }
   ],
   "source": [
    "%%time\n",
    "df = (\n",
    "    df\n",
    "    .sort_values(by=\"score\", ascending=False)\n",
    "    .assign(row_number=lambda df: range(len(df)))\n",
    ")\n",
    "df.head()"
   ]
  },
  {
   "cell_type": "markdown",
   "id": "8a44a236-eeed-4772-aced-38fd336103e6",
   "metadata": {},
   "source": [
    "Next, we'll bin the predicted probabilities using their quantiles with `pandas.qcut`, where the visitors are binned based on visit row number in order to avoid duplication of bin boundaries (three bins are created since earlier we specified we wanted. Three audience groups, namely low, medium and high propensity to purchase."
   ]
  },
  {
   "cell_type": "markdown",
   "id": "70645114-7faa-4aad-ae5f-fb994c42eca7",
   "metadata": {},
   "source": [
    "This is done below"
   ]
  },
  {
   "cell_type": "code",
   "execution_count": 12,
   "id": "3779e977-a08c-466d-a2bc-8ea548d02de7",
   "metadata": {
    "tags": []
   },
   "outputs": [
    {
     "data": {
      "text/html": [
       "<div>\n",
       "<style scoped>\n",
       "    .dataframe tbody tr th:only-of-type {\n",
       "        vertical-align: middle;\n",
       "    }\n",
       "\n",
       "    .dataframe tbody tr th {\n",
       "        vertical-align: top;\n",
       "    }\n",
       "\n",
       "    .dataframe thead th {\n",
       "        text-align: right;\n",
       "    }\n",
       "</style>\n",
       "<table border=\"1\" class=\"dataframe\">\n",
       "  <thead>\n",
       "    <tr style=\"text-align: right;\">\n",
       "      <th></th>\n",
       "      <th>fullvisitorid</th>\n",
       "      <th>label</th>\n",
       "      <th>score</th>\n",
       "      <th>predicted_score_label</th>\n",
       "      <th>row_number</th>\n",
       "      <th>audience_group</th>\n",
       "    </tr>\n",
       "  </thead>\n",
       "  <tbody>\n",
       "    <tr>\n",
       "      <th>5277</th>\n",
       "      <td>6539</td>\n",
       "      <td>False</td>\n",
       "      <td>0.957472</td>\n",
       "      <td>True</td>\n",
       "      <td>0</td>\n",
       "      <td>0</td>\n",
       "    </tr>\n",
       "    <tr>\n",
       "      <th>997</th>\n",
       "      <td>15317</td>\n",
       "      <td>False</td>\n",
       "      <td>0.929886</td>\n",
       "      <td>True</td>\n",
       "      <td>1</td>\n",
       "      <td>0</td>\n",
       "    </tr>\n",
       "    <tr>\n",
       "      <th>12343</th>\n",
       "      <td>4313</td>\n",
       "      <td>False</td>\n",
       "      <td>0.918627</td>\n",
       "      <td>True</td>\n",
       "      <td>2</td>\n",
       "      <td>0</td>\n",
       "    </tr>\n",
       "    <tr>\n",
       "      <th>1644</th>\n",
       "      <td>9806</td>\n",
       "      <td>False</td>\n",
       "      <td>0.908974</td>\n",
       "      <td>True</td>\n",
       "      <td>3</td>\n",
       "      <td>0</td>\n",
       "    </tr>\n",
       "    <tr>\n",
       "      <th>22156</th>\n",
       "      <td>4375</td>\n",
       "      <td>False</td>\n",
       "      <td>0.906313</td>\n",
       "      <td>True</td>\n",
       "      <td>4</td>\n",
       "      <td>0</td>\n",
       "    </tr>\n",
       "  </tbody>\n",
       "</table>\n",
       "</div>"
      ],
      "text/plain": [
       "      fullvisitorid  label     score  predicted_score_label  row_number   \n",
       "5277           6539  False  0.957472                   True           0  \\\n",
       "997           15317  False  0.929886                   True           1   \n",
       "12343          4313  False  0.918627                   True           2   \n",
       "1644           9806  False  0.908974                   True           3   \n",
       "22156          4375  False  0.906313                   True           4   \n",
       "\n",
       "       audience_group  \n",
       "5277                0  \n",
       "997                 0  \n",
       "12343               0  \n",
       "1644                0  \n",
       "22156               0  "
      ]
     },
     "metadata": {},
     "output_type": "display_data"
    },
    {
     "data": {
      "text/html": [
       "<div>\n",
       "<style scoped>\n",
       "    .dataframe tbody tr th:only-of-type {\n",
       "        vertical-align: middle;\n",
       "    }\n",
       "\n",
       "    .dataframe tbody tr th {\n",
       "        vertical-align: top;\n",
       "    }\n",
       "\n",
       "    .dataframe thead th {\n",
       "        text-align: right;\n",
       "    }\n",
       "</style>\n",
       "<table border=\"1\" class=\"dataframe\">\n",
       "  <thead>\n",
       "    <tr style=\"text-align: right;\">\n",
       "      <th></th>\n",
       "      <th>fullvisitorid</th>\n",
       "      <th>label</th>\n",
       "      <th>score</th>\n",
       "      <th>predicted_score_label</th>\n",
       "      <th>row_number</th>\n",
       "      <th>audience_group</th>\n",
       "    </tr>\n",
       "  </thead>\n",
       "  <tbody>\n",
       "    <tr>\n",
       "      <th>21391</th>\n",
       "      <td>11855</td>\n",
       "      <td>False</td>\n",
       "      <td>0.0</td>\n",
       "      <td>False</td>\n",
       "      <td>23995</td>\n",
       "      <td>2</td>\n",
       "    </tr>\n",
       "    <tr>\n",
       "      <th>12926</th>\n",
       "      <td>1147</td>\n",
       "      <td>False</td>\n",
       "      <td>0.0</td>\n",
       "      <td>False</td>\n",
       "      <td>23996</td>\n",
       "      <td>2</td>\n",
       "    </tr>\n",
       "    <tr>\n",
       "      <th>1387</th>\n",
       "      <td>10329</td>\n",
       "      <td>False</td>\n",
       "      <td>0.0</td>\n",
       "      <td>False</td>\n",
       "      <td>23997</td>\n",
       "      <td>2</td>\n",
       "    </tr>\n",
       "    <tr>\n",
       "      <th>20790</th>\n",
       "      <td>14354</td>\n",
       "      <td>False</td>\n",
       "      <td>0.0</td>\n",
       "      <td>False</td>\n",
       "      <td>23998</td>\n",
       "      <td>2</td>\n",
       "    </tr>\n",
       "    <tr>\n",
       "      <th>575</th>\n",
       "      <td>610</td>\n",
       "      <td>False</td>\n",
       "      <td>0.0</td>\n",
       "      <td>False</td>\n",
       "      <td>23999</td>\n",
       "      <td>2</td>\n",
       "    </tr>\n",
       "  </tbody>\n",
       "</table>\n",
       "</div>"
      ],
      "text/plain": [
       "      fullvisitorid  label  score  predicted_score_label  row_number   \n",
       "21391         11855  False    0.0                  False       23995  \\\n",
       "12926          1147  False    0.0                  False       23996   \n",
       "1387          10329  False    0.0                  False       23997   \n",
       "20790         14354  False    0.0                  False       23998   \n",
       "575             610  False    0.0                  False       23999   \n",
       "\n",
       "       audience_group  \n",
       "21391               2  \n",
       "12926               2  \n",
       "1387                2  \n",
       "20790               2  \n",
       "575                 2  "
      ]
     },
     "metadata": {},
     "output_type": "display_data"
    }
   ],
   "source": [
    "# | code-fold: false\n",
    "df[\"audience_group\"] = pd.qcut(\n",
    "    x=df[\"row_number\"], q=audience_groups[\"num_propens_groups\"], labels=False\n",
    ")\n",
    "display(df.head())\n",
    "display(df.tail())"
   ]
  },
  {
   "cell_type": "markdown",
   "id": "9ad0b9ec-46e0-4bc5-9f94-3b5a686e2b3c",
   "metadata": {},
   "source": [
    "### Create Test and Control Cohorts"
   ]
  },
  {
   "cell_type": "markdown",
   "id": "2c110e92-dec0-45ed-9742-fe59debfe27e",
   "metadata": {},
   "source": [
    "With the three audience propensity groups now assigned, we can create the test and control cohorts within each audience group.\n",
    "\n",
    "Test and control group cohorts should be randomly selected without replacement. This means the same visitor should not be randomly selected multiple times from the audience group and placed in each cohort. The two cohorts need to be independent and so the same visitor cannot be assigned to both cohorts.\n",
    "\n",
    "In Python, there are two options to make such random selections without duplication\n",
    "\n",
    "1. `random.sample()` [in the Python standard library](https://www.educative.io/answers/what-is-randomsample-in-python)\n",
    "2. [`numpy.random.choice()` with `replacement=False` in the `numpy` library](https://numpy.org/doc/stable/reference/random/generated/numpy.random.choice.html#numpy.random.choice)\n",
    "   \n",
    "Here, the `numpy` approach is used."
   ]
  },
  {
   "cell_type": "markdown",
   "id": "c957d30c-6c1f-4c13-9c87-f843e2be00e4",
   "metadata": {},
   "source": [
    "To create these groups, we'll iterate over each of the desired minimum test and control visitor cohort sizes that were recommended by the previous step about experiment design (post-processing) and then draw a [random sample](https://www.optimove.com/resources/learning-center/control-groups-in-marketing) from each propensity audience group to be chosen as control and test.\n",
    "\n",
    "The approach will consist of the following steps for each audience group (low, medium or high propensity)\n",
    "\n",
    "1. draw random sample of visitors, without replacement, as the control group\n",
    "2. get all non-selected visitors\n",
    "3. from non-selected visitors, draw random sample of visitors, without replacement, as the treatment (test) group\n",
    "4. (optional) get all visitors that are not part of either control or test group\n",
    "5. extract the following\n",
    "   - all features (`X`)\n",
    "   - metadata columns not used in ML\n",
    "   - predicted ML label (`y_pred`)\n",
    "   - predicted propensities (probabilities, in the `score` column)\n",
    "\n",
    "   and store the results in\n",
    "   - `df_test` (test or treatment cohort of visitors)\n",
    "   - `df_control` (control cohort of visitors)\n",
    "   - (optional) `df_excluded` (cohort of visitors that are not selected in either test or control group)"
   ]
  },
  {
   "cell_type": "markdown",
   "id": "edeb9184-77e3-4b5a-a181-246de9ca172f",
   "metadata": {},
   "source": [
    "This approach is shown below"
   ]
  },
  {
   "cell_type": "code",
   "execution_count": 13,
   "id": "07d6ecd6-8dfd-401e-a051-35065f49dbc9",
   "metadata": {
    "tags": []
   },
   "outputs": [
    {
     "name": "stdout",
     "output_type": "stream",
     "text": [
      "audience=0: High, size=8,000,  excluded=7,000, wanted=1,000, control=1,000, test=1,000\n",
      "audience=1: Medium, size=8,000,  excluded=6,000, wanted=2,000, control=2,000, test=2,000\n",
      "audience=2: Low, size=8,000,  excluded=5,000, wanted=3,000, control=3,000, test=3,000\n"
     ]
    },
    {
     "data": {
      "text/html": [
       "<div>\n",
       "<style scoped>\n",
       "    .dataframe tbody tr th:only-of-type {\n",
       "        vertical-align: middle;\n",
       "    }\n",
       "\n",
       "    .dataframe tbody tr th {\n",
       "        vertical-align: top;\n",
       "    }\n",
       "\n",
       "    .dataframe thead th {\n",
       "        text-align: right;\n",
       "    }\n",
       "</style>\n",
       "<table border=\"1\" class=\"dataframe\">\n",
       "  <thead>\n",
       "    <tr style=\"text-align: right;\">\n",
       "      <th></th>\n",
       "      <th>fullvisitorid</th>\n",
       "      <th>label</th>\n",
       "      <th>score</th>\n",
       "      <th>predicted_score_label</th>\n",
       "      <th>audience_group</th>\n",
       "      <th>cohort</th>\n",
       "    </tr>\n",
       "  </thead>\n",
       "  <tbody>\n",
       "    <tr>\n",
       "      <th>0</th>\n",
       "      <td>11635</td>\n",
       "      <td>False</td>\n",
       "      <td>0.805879</td>\n",
       "      <td>True</td>\n",
       "      <td>High</td>\n",
       "      <td>Control</td>\n",
       "    </tr>\n",
       "    <tr>\n",
       "      <th>1</th>\n",
       "      <td>9652</td>\n",
       "      <td>False</td>\n",
       "      <td>0.783223</td>\n",
       "      <td>True</td>\n",
       "      <td>High</td>\n",
       "      <td>Control</td>\n",
       "    </tr>\n",
       "    <tr>\n",
       "      <th>2</th>\n",
       "      <td>15041</td>\n",
       "      <td>False</td>\n",
       "      <td>0.769196</td>\n",
       "      <td>True</td>\n",
       "      <td>High</td>\n",
       "      <td>Control</td>\n",
       "    </tr>\n",
       "    <tr>\n",
       "      <th>3</th>\n",
       "      <td>6620</td>\n",
       "      <td>False</td>\n",
       "      <td>0.765363</td>\n",
       "      <td>True</td>\n",
       "      <td>High</td>\n",
       "      <td>Control</td>\n",
       "    </tr>\n",
       "    <tr>\n",
       "      <th>4</th>\n",
       "      <td>3295</td>\n",
       "      <td>False</td>\n",
       "      <td>0.736128</td>\n",
       "      <td>True</td>\n",
       "      <td>High</td>\n",
       "      <td>Control</td>\n",
       "    </tr>\n",
       "  </tbody>\n",
       "</table>\n",
       "</div>"
      ],
      "text/plain": [
       "  fullvisitorid  label     score  predicted_score_label audience_group   \n",
       "0         11635  False  0.805879                   True           High  \\\n",
       "1          9652  False  0.783223                   True           High   \n",
       "2         15041  False  0.769196                   True           High   \n",
       "3          6620  False  0.765363                   True           High   \n",
       "4          3295  False  0.736128                   True           High   \n",
       "\n",
       "    cohort  \n",
       "0  Control  \n",
       "1  Control  \n",
       "2  Control  \n",
       "3  Control  \n",
       "4  Control  "
      ]
     },
     "metadata": {},
     "output_type": "display_data"
    },
    {
     "data": {
      "text/html": [
       "<div>\n",
       "<style scoped>\n",
       "    .dataframe tbody tr th:only-of-type {\n",
       "        vertical-align: middle;\n",
       "    }\n",
       "\n",
       "    .dataframe tbody tr th {\n",
       "        vertical-align: top;\n",
       "    }\n",
       "\n",
       "    .dataframe thead th {\n",
       "        text-align: right;\n",
       "    }\n",
       "</style>\n",
       "<table border=\"1\" class=\"dataframe\">\n",
       "  <thead>\n",
       "    <tr style=\"text-align: right;\">\n",
       "      <th></th>\n",
       "      <th>fullvisitorid</th>\n",
       "      <th>label</th>\n",
       "      <th>score</th>\n",
       "      <th>predicted_score_label</th>\n",
       "      <th>audience_group</th>\n",
       "      <th>cohort</th>\n",
       "    </tr>\n",
       "  </thead>\n",
       "  <tbody>\n",
       "    <tr>\n",
       "      <th>0</th>\n",
       "      <td>11635</td>\n",
       "      <td>False</td>\n",
       "      <td>0.805879</td>\n",
       "      <td>True</td>\n",
       "      <td>High</td>\n",
       "      <td>Control</td>\n",
       "    </tr>\n",
       "    <tr>\n",
       "      <th>1</th>\n",
       "      <td>9652</td>\n",
       "      <td>False</td>\n",
       "      <td>0.783223</td>\n",
       "      <td>True</td>\n",
       "      <td>High</td>\n",
       "      <td>Control</td>\n",
       "    </tr>\n",
       "    <tr>\n",
       "      <th>2</th>\n",
       "      <td>15041</td>\n",
       "      <td>False</td>\n",
       "      <td>0.769196</td>\n",
       "      <td>True</td>\n",
       "      <td>High</td>\n",
       "      <td>Control</td>\n",
       "    </tr>\n",
       "    <tr>\n",
       "      <th>3</th>\n",
       "      <td>6620</td>\n",
       "      <td>False</td>\n",
       "      <td>0.765363</td>\n",
       "      <td>True</td>\n",
       "      <td>High</td>\n",
       "      <td>Control</td>\n",
       "    </tr>\n",
       "    <tr>\n",
       "      <th>4</th>\n",
       "      <td>3295</td>\n",
       "      <td>False</td>\n",
       "      <td>0.736128</td>\n",
       "      <td>True</td>\n",
       "      <td>High</td>\n",
       "      <td>Control</td>\n",
       "    </tr>\n",
       "  </tbody>\n",
       "</table>\n",
       "</div>"
      ],
      "text/plain": [
       "  fullvisitorid  label     score  predicted_score_label audience_group   \n",
       "0         11635  False  0.805879                   True           High  \\\n",
       "1          9652  False  0.783223                   True           High   \n",
       "2         15041  False  0.769196                   True           High   \n",
       "3          6620  False  0.765363                   True           High   \n",
       "4          3295  False  0.736128                   True           High   \n",
       "\n",
       "    cohort  \n",
       "0  Control  \n",
       "1  Control  \n",
       "2  Control  \n",
       "3  Control  \n",
       "4  Control  "
      ]
     },
     "metadata": {},
     "output_type": "display_data"
    },
    {
     "name": "stdout",
     "output_type": "stream",
     "text": [
      "CPU times: user 61.1 ms, sys: 5.16 ms, total: 66.3 ms\n",
      "Wall time: 65.6 ms\n"
     ]
    }
   ],
   "source": [
    "%%time\n",
    "groups = []\n",
    "for k, group_size in enumerate(min_control_group_sizes):\n",
    "    df_audience = df.query(f\"audience_group == {k}\")\n",
    "    audience_array = df_audience['fullvisitorid'].to_numpy()\n",
    "\n",
    "    # 1. get control \n",
    "    rng = np.random.default_rng(88)\n",
    "    control_group_visitors = rng.choice(audience_array, group_size, replace=False).tolist()\n",
    "\n",
    "    # 2. get all remaining visitors\n",
    "    other_array = list(set(audience_array) - set(control_group_visitors))\n",
    "\n",
    "    # 3. get test group visitors by randomly sampling from remaining visitors\n",
    "    test_group_visitors = rng.choice(other_array, group_size, replace=False).tolist()\n",
    "\n",
    "    # 4. get combined control and test cohorts of visitors\n",
    "    combined_cohort_visitors = control_group_visitors + test_group_visitors\n",
    "    # get all excluded visitors (not part of test or control cohort)\n",
    "    excluded_visitors = list(set(audience_array) - set(combined_cohort_visitors))\n",
    "\n",
    "    # # get audience scores\n",
    "    # audience_scores = df_audience.query(\n",
    "    #     \"fullvisitorid.isin(@combined_cohort_visitors)\"\n",
    "    # )['score'].to_numpy()\n",
    "\n",
    "    print(\n",
    "        f\"audience={k}: {mapper_dict_audience[k]}, \"\n",
    "        f\"size={len(audience_array):,}, \",\n",
    "        f\"excluded={len(other_array):,}, \"\n",
    "        f\"wanted={group_size:,}, \"\n",
    "        f\"control={len(control_group_visitors):,}, \"\n",
    "        f\"test={len(test_group_visitors):,}\"\n",
    "    )\n",
    "\n",
    "    # 5. get extract attributes for each cohort per audience group\n",
    "    df_test = (\n",
    "        df_audience.drop(columns=['row_number'])\n",
    "        .query(\"fullvisitorid.isin(@test_group_visitors)\")\n",
    "        .assign(audience_group=k)\n",
    "        .assign(cohort='Test')\n",
    "    )\n",
    "    df_control = (\n",
    "        df_audience.drop(columns=['row_number'])\n",
    "        .query(\"fullvisitorid.isin(@control_group_visitors)\")\n",
    "        .assign(audience_group=k)\n",
    "        .assign(cohort='Control')\n",
    "    )\n",
    "    df_excluded = (\n",
    "        df_audience.drop(columns=['row_number'])\n",
    "        .query(\"fullvisitorid.isin(@excluded_visitors)\")\n",
    "        .assign(audience_group=k)\n",
    "        .assign(cohort=None)\n",
    "    )\n",
    "    df_coh = pd.concat([df_control, df_test, df_excluded], ignore_index=True)\n",
    "    groups.append(df_coh)\n",
    "df_test_audience_groups = (\n",
    "    pd.concat(groups, ignore_index=True)\n",
    "    .assign(audience_group=lambda df: df['audience_group'].map(mapper_dict_audience))\n",
    "    .astype({'audience_group': pd.StringDtype(), 'cohort': pd.StringDtype()})\n",
    ")\n",
    "display(df_test_audience_groups.head())\n",
    "display(df_test_audience_groups.head())"
   ]
  },
  {
   "cell_type": "markdown",
   "id": "bc69149a-194f-42b5-aa7b-d663e5e11663",
   "metadata": {},
   "source": [
    "Earlier, we mentioned that the treatment (or test) and control groups should be similar to each other for the property to be tested. This is a [fundamental requirement of test and control groups](https://www.mobileapps.com/blog/test-group#Similarities_Between_Test_and_Control_Groups). In this case, the probability (`score` column) is the property of interest.\n",
    "\n",
    "With this in mind, we now show selected descriptive statistics for both the test (treatment) and control cohorts within each desired audience group (low, medium and high propensity)"
   ]
  },
  {
   "cell_type": "code",
   "execution_count": 14,
   "id": "13220bd5-4f51-42f8-918f-f44073c1e21a",
   "metadata": {
    "tags": []
   },
   "outputs": [
    {
     "data": {
      "text/html": [
       "<div>\n",
       "<style scoped>\n",
       "    .dataframe tbody tr th:only-of-type {\n",
       "        vertical-align: middle;\n",
       "    }\n",
       "\n",
       "    .dataframe tbody tr th {\n",
       "        vertical-align: top;\n",
       "    }\n",
       "\n",
       "    .dataframe thead th {\n",
       "        text-align: right;\n",
       "    }\n",
       "</style>\n",
       "<table border=\"1\" class=\"dataframe\">\n",
       "  <thead>\n",
       "    <tr style=\"text-align: right;\">\n",
       "      <th></th>\n",
       "      <th>audience_group</th>\n",
       "      <th>cohort</th>\n",
       "      <th>score_count</th>\n",
       "      <th>score_min</th>\n",
       "      <th>score_mean</th>\n",
       "      <th>score_median</th>\n",
       "      <th>score_max</th>\n",
       "    </tr>\n",
       "  </thead>\n",
       "  <tbody>\n",
       "    <tr>\n",
       "      <th>0</th>\n",
       "      <td>High</td>\n",
       "      <td>Control</td>\n",
       "      <td>1000</td>\n",
       "      <td>0.011979</td>\n",
       "      <td>0.137127</td>\n",
       "      <td>0.073412</td>\n",
       "      <td>0.805879</td>\n",
       "    </tr>\n",
       "    <tr>\n",
       "      <th>1</th>\n",
       "      <td>High</td>\n",
       "      <td>Test</td>\n",
       "      <td>1000</td>\n",
       "      <td>0.011967</td>\n",
       "      <td>0.145986</td>\n",
       "      <td>0.083493</td>\n",
       "      <td>0.918627</td>\n",
       "    </tr>\n",
       "    <tr>\n",
       "      <th>2</th>\n",
       "      <td>High</td>\n",
       "      <td>&lt;NA&gt;</td>\n",
       "      <td>6000</td>\n",
       "      <td>0.011962</td>\n",
       "      <td>0.143285</td>\n",
       "      <td>0.077881</td>\n",
       "      <td>0.957472</td>\n",
       "    </tr>\n",
       "    <tr>\n",
       "      <th>3</th>\n",
       "      <td>Low</td>\n",
       "      <td>Control</td>\n",
       "      <td>3000</td>\n",
       "      <td>0.0</td>\n",
       "      <td>0.000006</td>\n",
       "      <td>0.0</td>\n",
       "      <td>0.000052</td>\n",
       "    </tr>\n",
       "    <tr>\n",
       "      <th>4</th>\n",
       "      <td>Low</td>\n",
       "      <td>Test</td>\n",
       "      <td>3000</td>\n",
       "      <td>0.0</td>\n",
       "      <td>0.000006</td>\n",
       "      <td>0.0</td>\n",
       "      <td>0.000052</td>\n",
       "    </tr>\n",
       "    <tr>\n",
       "      <th>5</th>\n",
       "      <td>Low</td>\n",
       "      <td>&lt;NA&gt;</td>\n",
       "      <td>2000</td>\n",
       "      <td>0.0</td>\n",
       "      <td>0.000006</td>\n",
       "      <td>0.0</td>\n",
       "      <td>0.000052</td>\n",
       "    </tr>\n",
       "    <tr>\n",
       "      <th>6</th>\n",
       "      <td>Medium</td>\n",
       "      <td>Control</td>\n",
       "      <td>2000</td>\n",
       "      <td>0.000053</td>\n",
       "      <td>0.002735</td>\n",
       "      <td>0.001312</td>\n",
       "      <td>0.011958</td>\n",
       "    </tr>\n",
       "    <tr>\n",
       "      <th>7</th>\n",
       "      <td>Medium</td>\n",
       "      <td>Test</td>\n",
       "      <td>2000</td>\n",
       "      <td>0.000053</td>\n",
       "      <td>0.002649</td>\n",
       "      <td>0.00122</td>\n",
       "      <td>0.011951</td>\n",
       "    </tr>\n",
       "    <tr>\n",
       "      <th>8</th>\n",
       "      <td>Medium</td>\n",
       "      <td>&lt;NA&gt;</td>\n",
       "      <td>4000</td>\n",
       "      <td>0.000053</td>\n",
       "      <td>0.002617</td>\n",
       "      <td>0.001202</td>\n",
       "      <td>0.011958</td>\n",
       "    </tr>\n",
       "  </tbody>\n",
       "</table>\n",
       "</div>"
      ],
      "text/plain": [
       "  audience_group   cohort  score_count  score_min  score_mean  score_median   \n",
       "0           High  Control         1000   0.011979    0.137127      0.073412  \\\n",
       "1           High     Test         1000   0.011967    0.145986      0.083493   \n",
       "2           High     <NA>         6000   0.011962    0.143285      0.077881   \n",
       "3            Low  Control         3000        0.0    0.000006           0.0   \n",
       "4            Low     Test         3000        0.0    0.000006           0.0   \n",
       "5            Low     <NA>         2000        0.0    0.000006           0.0   \n",
       "6         Medium  Control         2000   0.000053    0.002735      0.001312   \n",
       "7         Medium     Test         2000   0.000053    0.002649       0.00122   \n",
       "8         Medium     <NA>         4000   0.000053    0.002617      0.001202   \n",
       "\n",
       "   score_max  \n",
       "0   0.805879  \n",
       "1   0.918627  \n",
       "2   0.957472  \n",
       "3   0.000052  \n",
       "4   0.000052  \n",
       "5   0.000052  \n",
       "6   0.011958  \n",
       "7   0.011951  \n",
       "8   0.011958  "
      ]
     },
     "execution_count": 14,
     "metadata": {},
     "output_type": "execute_result"
    }
   ],
   "source": [
    "# | code-fold: false\n",
    "df_aud_stats = df_test_audience_groups.groupby(\n",
    "    [\"audience_group\", \"cohort\"], dropna=False, as_index=False\n",
    ").agg({\"score\": [\"count\", \"min\", \"mean\", \"median\", \"max\"]})\n",
    "df_aud_stats.columns = [\n",
    "    \"_\".join(c).rstrip(\"_\") for c in df_aud_stats.columns.to_flat_index()\n",
    "]\n",
    "df_aud_stats = df_aud_stats.astype(\n",
    "    {f\"score_{stat}\": pd.Float32Dtype() for stat in [\"min\", \"mean\", \"median\", \"max\"]}\n",
    ").sort_values(by=[\"audience_group\"])\n",
    "df_aud_stats"
   ]
  },
  {
   "cell_type": "markdown",
   "id": "a334ebe5-9308-45b0-8f57-93deaef7e005",
   "metadata": {},
   "source": [
    "**Observations**\n",
    "\n",
    "1. With the exception of outliers in the *High* propensity audience group, we see good agreement in the statistics for the probabilities per Test-Control cohort within the same audience group."
   ]
  },
  {
   "cell_type": "markdown",
   "id": "ee0f7c30-1a89-4601-b7b3-5c85e488c7e4",
   "metadata": {},
   "source": [
    "## Export to Disk"
   ]
  },
  {
   "cell_type": "markdown",
   "id": "629dafc8-57ed-48d1-b5cc-37f6ecc6cc2b",
   "metadata": {},
   "source": [
    "Finally, the unseen data with the\n",
    "\n",
    "1. audience (`audience_group`)\n",
    "2. cohorts (`cohort`)\n",
    "\n",
    "columns assigned will now be exported to disk for use by the marketing team."
   ]
  },
  {
   "cell_type": "markdown",
   "id": "8ddb6f9f-71ce-4edc-976b-977248ea7e58",
   "metadata": {},
   "source": [
    "Show the datatypes"
   ]
  },
  {
   "cell_type": "code",
   "execution_count": 15,
   "id": "06a47563-ad30-4a1a-9f44-cbccaaa9a7be",
   "metadata": {
    "tags": []
   },
   "outputs": [
    {
     "data": {
      "text/html": [
       "<div>\n",
       "<style scoped>\n",
       "    .dataframe tbody tr th:only-of-type {\n",
       "        vertical-align: middle;\n",
       "    }\n",
       "\n",
       "    .dataframe tbody tr th {\n",
       "        vertical-align: top;\n",
       "    }\n",
       "\n",
       "    .dataframe thead th {\n",
       "        text-align: right;\n",
       "    }\n",
       "</style>\n",
       "<table border=\"1\" class=\"dataframe\">\n",
       "  <thead>\n",
       "    <tr style=\"text-align: right;\">\n",
       "      <th></th>\n",
       "      <th>dtype</th>\n",
       "      <th>missing</th>\n",
       "    </tr>\n",
       "  </thead>\n",
       "  <tbody>\n",
       "    <tr>\n",
       "      <th>fullvisitorid</th>\n",
       "      <td>string[python]</td>\n",
       "      <td>0</td>\n",
       "    </tr>\n",
       "    <tr>\n",
       "      <th>label</th>\n",
       "      <td>bool</td>\n",
       "      <td>0</td>\n",
       "    </tr>\n",
       "    <tr>\n",
       "      <th>score</th>\n",
       "      <td>Float32</td>\n",
       "      <td>0</td>\n",
       "    </tr>\n",
       "    <tr>\n",
       "      <th>predicted_score_label</th>\n",
       "      <td>boolean</td>\n",
       "      <td>0</td>\n",
       "    </tr>\n",
       "    <tr>\n",
       "      <th>audience_group</th>\n",
       "      <td>string[python]</td>\n",
       "      <td>0</td>\n",
       "    </tr>\n",
       "    <tr>\n",
       "      <th>cohort</th>\n",
       "      <td>string[python]</td>\n",
       "      <td>12000</td>\n",
       "    </tr>\n",
       "  </tbody>\n",
       "</table>\n",
       "</div>"
      ],
      "text/plain": [
       "                                dtype  missing\n",
       "fullvisitorid          string[python]        0\n",
       "label                            bool        0\n",
       "score                         Float32        0\n",
       "predicted_score_label         boolean        0\n",
       "audience_group         string[python]        0\n",
       "cohort                 string[python]    12000"
      ]
     },
     "metadata": {},
     "output_type": "display_data"
    }
   ],
   "source": [
    "summarize_df(df_test_audience_groups)"
   ]
  },
  {
   "cell_type": "markdown",
   "id": "48a8c373-9c84-499f-bf81-5da183c3a2b0",
   "metadata": {},
   "source": [
    "**Notes**\n",
    "1. The `cohort` has missing values for visitors who were not assigned to either the test or control groups. This is expected."
   ]
  },
  {
   "cell_type": "markdown",
   "id": "be0f8e30-266c-4b2f-aa5a-ab8099ff43a8",
   "metadata": {},
   "source": [
    "Save to disk"
   ]
  },
  {
   "cell_type": "code",
   "execution_count": 16,
   "id": "52da6f14-8913-47f3-b465-25fc2279f588",
   "metadata": {
    "tags": []
   },
   "outputs": [],
   "source": [
    "# | code-fold: false\n",
    "audience_cohorts_fpath = os.path.join(\n",
    "    processed_data_dir, \"marketing_audience_cohort_groups__unseen_data.parquet.gzip\"\n",
    ")\n",
    "df_test_audience_groups.to_parquet(\n",
    "    audience_cohorts_fpath, index=False, engine=\"pyarrow\", compression=\"gzip\"\n",
    ")"
   ]
  },
  {
   "cell_type": "markdown",
   "id": "199922ac-57b5-4bee-bc85-d5e250d78082",
   "metadata": {},
   "source": [
    "## Summary of Tasks Performed"
   ]
  },
  {
   "cell_type": "markdown",
   "id": "aa74fbe0-e27f-4218-a033-655c72512839",
   "metadata": {},
   "source": [
    "This step in the project's overall workflow has performed the following\n",
    "\n",
    "1. created marketing audience propensity groups\n",
    "2. created test (or treatment) and control cohorts\n",
    "3. demonstrated similarity between test and control cohorts, in terms of propensity to make a purchase, as required"
   ]
  },
  {
   "cell_type": "markdown",
   "id": "c00517d0-3c2e-4557-bbff-0125fae1b3b0",
   "metadata": {},
   "source": [
    "## Summary of Assumptions"
   ]
  },
  {
   "cell_type": "markdown",
   "id": "cd7f64ff-ea8f-4b22-9aa3-9e8403281f6e",
   "metadata": {},
   "source": [
    "1. As was the case with the preceding (post-processing, or media design) step, the current step can only be be run on March 31, 2017 after\n",
    "   - all the unseen data has been collected\n",
    "   - propensity (probabilities) have been predicted for this data\n",
    "\n",
    "   So, we will assume that\n",
    "\n",
    "   - the current date is April 1, 2017\n",
    "   - the unseen data has been\n",
    "     - collected\n",
    "     - processed (drop duplicates, bin categorical features, etc. as was done during ML model development)\n",
    "   - we have used the trained ML model to make predictions of the probability (likelihood or propenisty) of making a purchase on a future visit for all visitors in the unseen data1. As was the case with the preceding (post-processing, or media design) step, the current step can only be be run on March 31, 2017 after\n",
    "   - all the unseen data has been collected\n",
    "   - propensity (probabilities) have been predicted for this data\n",
    "\n",
    "   So, we have assumed that\n",
    "\n",
    "   - the current date is April 1, 2017\n",
    "   - the unseen data has been\n",
    "     - collected\n",
    "     - processed (drop duplicates, bin categorical features, etc. as was done during ML model development)\n",
    "   - we have used the trained ML model to make predictions of the probability (likelihood or propenisty) of making a purchase on a future visit for all visitors in the unseen data"
   ]
  },
  {
   "cell_type": "markdown",
   "id": "dc0594f5-0644-4235-a945-0febb4faa2cd",
   "metadata": {},
   "source": [
    "## Limitations"
   ]
  },
  {
   "cell_type": "markdown",
   "id": "432ea1e9-08eb-4799-a134-2ebae1c4c869",
   "metadata": {},
   "source": [
    "1. In practice, we may want to perform a brief profiling of the cohorts (get the main attributes using some of the columns with ML features such as browser, number of pageviews, etc.) within each audience propensity group and append this profile as a new column as this might help the marketing team devise an appropriate strategy/promotion.\n",
    "\n",
    "   Profiling of the test and control cohorts within each of the audience propensity groups could provide helpful context to the marketing team when they are devising a marketing promotion/strategy. This cohort profiling step was not performed here."
   ]
  }
 ],
 "metadata": {
  "kernelspec": {
   "display_name": "create-audience",
   "language": "python",
   "name": "create-audience"
  },
  "language_info": {
   "codemirror_mode": {
    "name": "ipython",
    "version": 3
   },
   "file_extension": ".py",
   "mimetype": "text/x-python",
   "name": "python",
   "nbconvert_exporter": "python",
   "pygments_lexer": "ipython3",
   "version": "3.11.3"
  }
 },
 "nbformat": 4,
 "nbformat_minor": 5
}
